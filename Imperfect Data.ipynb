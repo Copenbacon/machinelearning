{
 "cells": [
  {
   "cell_type": "code",
   "execution_count": null,
   "metadata": {
    "collapsed": true,
    "deletable": true,
    "editable": true
   },
   "outputs": [],
   "source": [
    "import pandas as pd\n",
    "data = pd.read_csv(\"Towed_Vehicles.csv\", sep=\",\")"
   ]
  },
  {
   "cell_type": "code",
   "execution_count": null,
   "metadata": {
    "collapsed": false,
    "deletable": true,
    "editable": true
   },
   "outputs": [],
   "source": [
    "data[\"Tow Date\"] = pd.to_datetime(data[\"Tow Date\"])"
   ]
  },
  {
   "cell_type": "code",
   "execution_count": null,
   "metadata": {
    "collapsed": false,
    "deletable": true,
    "editable": true
   },
   "outputs": [],
   "source": [
    "data.sort_values(['Tow Date'], ascending = [True])"
   ]
  },
  {
   "cell_type": "markdown",
   "metadata": {
    "deletable": true,
    "editable": true
   },
   "source": [
    "# What is the relationship between car make and total cars towed?"
   ]
  },
  {
   "cell_type": "code",
   "execution_count": null,
   "metadata": {
    "collapsed": true,
    "deletable": true,
    "editable": true
   },
   "outputs": [],
   "source": [
    "make_counts = data['Make'].value_counts()"
   ]
  },
  {
   "cell_type": "code",
   "execution_count": null,
   "metadata": {
    "collapsed": false,
    "deletable": true,
    "editable": true
   },
   "outputs": [],
   "source": [
    "x = make_counts[(data.Make.value_counts() > 10)]"
   ]
  },
  {
   "cell_type": "code",
   "execution_count": null,
   "metadata": {
    "collapsed": true,
    "deletable": true,
    "editable": true
   },
   "outputs": [],
   "source": [
    "import matplotlib.pyplot as plt"
   ]
  },
  {
   "cell_type": "code",
   "execution_count": null,
   "metadata": {
    "collapsed": false,
    "deletable": true,
    "editable": true
   },
   "outputs": [],
   "source": [
    "plt.figure()\n",
    "plt.title(\"Number of Cars Towed By Make\")\n",
    "plt.xlabel(\"Makes of Cars\")\n",
    "plt.ylabel(\"Number of Tows\")\n",
    "x.plot.bar()\n",
    "plt.show()"
   ]
  },
  {
   "cell_type": "markdown",
   "metadata": {
    "deletable": true,
    "editable": true
   },
   "source": [
    "Chevrolets are more likely to be towed than all other cars."
   ]
  },
  {
   "cell_type": "markdown",
   "metadata": {},
   "source": [
    "## What Dates Did the Most Chevrolets Get Towed On?"
   ]
  },
  {
   "cell_type": "code",
   "execution_count": null,
   "metadata": {
    "collapsed": false,
    "deletable": true,
    "editable": true
   },
   "outputs": [],
   "source": [
    "model_counts = data[data['Make'] == \"CHEV\"].sort_values(['Tow Date'])"
   ]
  },
  {
   "cell_type": "code",
   "execution_count": null,
   "metadata": {
    "collapsed": false
   },
   "outputs": [],
   "source": [
    "model_counts"
   ]
  },
  {
   "cell_type": "code",
   "execution_count": null,
   "metadata": {
    "collapsed": false,
    "scrolled": false
   },
   "outputs": [],
   "source": [
    "chevy_tows_by_day = model_counts[\"Tow Date\"].value_counts()\n",
    "x = chevy_tows_by_day[(chevy_tows_by_day > 25)]\n",
    "plt.figure()\n",
    "plt.title(\"Days Most Amount of Chevys Were Towed\")\n",
    "plt.ylabel(\"Days\")\n",
    "plt.xlabel(\"Number of Tows\")\n",
    "x.plot.barh()\n",
    "plt.show()"
   ]
  },
  {
   "cell_type": "markdown",
   "metadata": {},
   "source": [
    "February really ramped up towing Chevys"
   ]
  },
  {
   "cell_type": "markdown",
   "metadata": {},
   "source": [
    "## What Dates Did the Least Amount of Chevys Get Towed On?"
   ]
  },
  {
   "cell_type": "code",
   "execution_count": null,
   "metadata": {
    "collapsed": false
   },
   "outputs": [],
   "source": [
    "x = chevy_tows_by_day[(chevy_tows_by_day < 5)]\n",
    "plt.figure()\n",
    "plt.title(\"Days Least Amount of Chevys Were Towed\")\n",
    "plt.ylabel(\"Days\")\n",
    "plt.xlabel(\"Number of Tows\")\n",
    "x.plot.barh()\n",
    "plt.show()"
   ]
  },
  {
   "cell_type": "markdown",
   "metadata": {},
   "source": [
    "Low amount of Chevys towed on Christmas Eve and Christmas and Thanksgiving"
   ]
  },
  {
   "cell_type": "markdown",
   "metadata": {},
   "source": [
    "## What Dates Did All Cars Get Towed Most?"
   ]
  },
  {
   "cell_type": "code",
   "execution_count": null,
   "metadata": {
    "collapsed": false
   },
   "outputs": [],
   "source": [
    "cars_towed_per_day = data[\"Tow Date\"].value_counts()\n",
    "x = cars_towed_per_day[cars_towed_per_day > 150]\n",
    "plt.figure()\n",
    "plt.title(\"Days Most Cars Were Towed\")\n",
    "plt.ylabel(\"Days\")\n",
    "plt.xlabel(\"Number of Tows\")\n",
    "x.plot.barh()\n",
    "plt.show()"
   ]
  },
  {
   "cell_type": "markdown",
   "metadata": {},
   "source": [
    "Huge spike in towing from February 1 - 5"
   ]
  },
  {
   "cell_type": "markdown",
   "metadata": {},
   "source": [
    "## What Days Did Cars Get Towed the Least?"
   ]
  },
  {
   "cell_type": "code",
   "execution_count": null,
   "metadata": {
    "collapsed": false
   },
   "outputs": [],
   "source": [
    "x = cars_towed_per_day[cars_towed_per_day < 25]\n",
    "plt.figure()\n",
    "plt.title(\"Days Least Amount of Cars Were Towed\")\n",
    "plt.ylabel(\"Days\")\n",
    "plt.xlabel(\"Number of Tows\")\n",
    "x.plot.barh()\n",
    "plt.show()"
   ]
  },
  {
   "cell_type": "markdown",
   "metadata": {},
   "source": [
    "Tow numbers go down around the holidays (Christmas, Thanksgiving)"
   ]
  }
 ],
 "metadata": {
  "kernelspec": {
   "display_name": "Python 3",
   "language": "python",
   "name": "python3"
  },
  "language_info": {
   "codemirror_mode": {
    "name": "ipython",
    "version": 3
   },
   "file_extension": ".py",
   "mimetype": "text/x-python",
   "name": "python",
   "nbconvert_exporter": "python",
   "pygments_lexer": "ipython3",
   "version": "3.5.2"
  }
 },
 "nbformat": 4,
 "nbformat_minor": 2
}
